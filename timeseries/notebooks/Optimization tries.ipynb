{
 "cells": [
  {
   "cell_type": "markdown",
   "metadata": {},
   "source": [
    "## Optimization tries"
   ]
  },
  {
   "cell_type": "code",
   "execution_count": 1,
   "metadata": {},
   "outputs": [],
   "source": [
    "# Combinatory tools\n",
    "import itertools\n",
    "model    = ( 'add', 'mul' )\n",
    "seas_per = ( 7, 14, 21, 28, 35 )\n",
    "boxcox   = ( True, False )\n",
    "un_bias  = ( True, False )\n",
    "combinations = list( itertools.product( model, seas_per, boxcox, un_bias ) )\n"
   ]
  },
  {
   "cell_type": "code",
   "execution_count": 2,
   "metadata": {},
   "outputs": [
    {
     "ename": "NameError",
     "evalue": "name 'mean_squared_error' is not defined",
     "output_type": "error",
     "traceback": [
      "\u001b[0;31m---------------------------------------------------------------------------\u001b[0m",
      "\u001b[0;31mNameError\u001b[0m                                 Traceback (most recent call last)",
      "\u001b[0;32m<ipython-input-2-2224e07abeff>\u001b[0m in \u001b[0;36m<module>\u001b[0;34m\u001b[0m\n\u001b[1;32m      2\u001b[0m \u001b[0;32mfrom\u001b[0m \u001b[0msklearn\u001b[0m\u001b[0;34m.\u001b[0m\u001b[0mmodel_selection\u001b[0m \u001b[0;32mimport\u001b[0m \u001b[0mTimeSeriesSplit\u001b[0m \u001b[0;31m# you have everything done for you\u001b[0m\u001b[0;34m\u001b[0m\u001b[0;34m\u001b[0m\u001b[0m\n\u001b[1;32m      3\u001b[0m \u001b[0;34m\u001b[0m\u001b[0m\n\u001b[0;32m----> 4\u001b[0;31m \u001b[0;32mdef\u001b[0m \u001b[0mtimeseries_cross_validation_score\u001b[0m\u001b[0;34m(\u001b[0m\u001b[0mparams\u001b[0m\u001b[0;34m,\u001b[0m \u001b[0mseries\u001b[0m\u001b[0;34m,\u001b[0m \u001b[0mloss_function\u001b[0m\u001b[0;34m=\u001b[0m\u001b[0mmean_squared_error\u001b[0m\u001b[0;34m)\u001b[0m\u001b[0;34m:\u001b[0m\u001b[0;34m\u001b[0m\u001b[0;34m\u001b[0m\u001b[0m\n\u001b[0m\u001b[1;32m      5\u001b[0m     \"\"\"\n\u001b[1;32m      6\u001b[0m         \u001b[0mReturns\u001b[0m \u001b[0merror\u001b[0m \u001b[0mon\u001b[0m \u001b[0mcross\u001b[0m \u001b[0mvalidation\u001b[0m\u001b[0;34m\u001b[0m\u001b[0;34m\u001b[0m\u001b[0m\n",
      "\u001b[0;31mNameError\u001b[0m: name 'mean_squared_error' is not defined"
     ]
    }
   ],
   "source": [
    "# Vamos en serio con optimizar\n",
    "from sklearn.model_selection import TimeSeriesSplit # you have everything done for you\n",
    "\n",
    "def timeseries_cross_validation_score(params, series, loss_function=mean_squared_error):\n",
    "    \"\"\"\n",
    "        Returns error on cross validation  \n",
    "        \n",
    "        params - vector of parameters for optimization\n",
    "        series - dataset with timeseries\n",
    "    \"\"\"\n",
    "    # errors array\n",
    "    errors = []\n",
    "    values = series.values\n",
    "    alpha, beta, gamma = params\n",
    "    \n",
    "    print(\n",
    "        'Evaluating (alpha, beta, gamma) = ({alpha},{beta},{gamma})'.format(\n",
    "            alpha = alpha, \n",
    "            beta = beta, \n",
    "            gamma=gamma\n",
    "        )\n",
    "    )\n",
    "    \n",
    "    # set the number of folds for cross-validation\n",
    "    tscv = TimeSeriesSplit(n_splits=3) \n",
    "    \n",
    "    # iterating over folds, train model on each, forecast and calculate error\n",
    "    for train_index, test_index in tscv.split(values):\n",
    "        \n",
    "        # Hyper parameter definition\n",
    "        \n",
    "        train = values[train_index]\n",
    "        test  = values[test_index]\n",
    "        \n",
    "        #display(train)\n",
    "        #display(test)\n",
    "        \n",
    "        model = ExponentialSmoothing(\n",
    "            train, \n",
    "            seasonal         = 'add', # 'add' , 'mul'\n",
    "            seasonal_periods = 14\n",
    "        ).fit(\n",
    "            optimized  = True,\n",
    "            #use_boxcox = True,\n",
    "            #remove_bias = True,\n",
    "            #smoothing_level    = alpha,\n",
    "            #smoothing_slope    = beta,\n",
    "            #smoothing_seasonal = gamma\n",
    "        )\n",
    "        \n",
    "        predictions = model.predict(\n",
    "                    start = test_index[0], \n",
    "                    end   = test_index[-1]\n",
    "        )\n",
    "        actual = values[test_index]\n",
    "        #print('predictions')\n",
    "        #print(predictions)\n",
    "        #print('actual')\n",
    "        #print(actual)\n",
    "        \n",
    "        error = loss_function(predictions, actual)\n",
    "        display('Error: {err}'.format(err = error))\n",
    "        errors.append(error)\n",
    "        \n",
    "    return np.mean(np.array(errors))"
   ]
  },
  {
   "cell_type": "code",
   "execution_count": 3,
   "metadata": {},
   "outputs": [
    {
     "ename": "NameError",
     "evalue": "name 'serie' is not defined",
     "output_type": "error",
     "traceback": [
      "\u001b[0;31m---------------------------------------------------------------------------\u001b[0m",
      "\u001b[0;31mNameError\u001b[0m                                 Traceback (most recent call last)",
      "\u001b[0;32m<timed exec>\u001b[0m in \u001b[0;36m<module>\u001b[0;34m\u001b[0m\n",
      "\u001b[0;31mNameError\u001b[0m: name 'serie' is not defined"
     ]
    }
   ],
   "source": [
    "%%time\n",
    "\n",
    "data = serie.TOTAL[:-7] # leave some data for testing\n",
    "\n",
    "# initializing model parameters alpha, beta and gamma\n",
    "x = [0.5, 0.5, 0.5] \n",
    "\n",
    "# Minimizing the loss function \n",
    "opt = minimize(\n",
    "        timeseries_cross_validation_score, # The objective function to be minimized: fun(x, *args) -> float\n",
    "        x0     = x,                        # Initial guess. \n",
    "        args   = (data, mean_squared_log_error), \n",
    "        method = 'TNC', #TNC,L-BFGS-B, SLSQP\n",
    "        bounds = ((0, 1), (0, 1), (0, 1)),\n",
    "        tol    = 0.001\n",
    ")\n",
    "\n",
    "# Take optimal values...\n",
    "alpha_final, beta_final, gamma_final = opt.x\n",
    "print(alpha_final, beta_final, gamma_final)\n",
    "\n",
    "#for mdl, per , boxcox, un_bias in combinations :\n",
    "#    print(mdl, per , boxcox, un_bias)\n"
   ]
  },
  {
   "cell_type": "code",
   "execution_count": null,
   "metadata": {},
   "outputs": [],
   "source": []
  }
 ],
 "metadata": {
  "kernelspec": {
   "display_name": "Python 3",
   "language": "python",
   "name": "python3"
  },
  "language_info": {
   "codemirror_mode": {
    "name": "ipython",
    "version": 3
   },
   "file_extension": ".py",
   "mimetype": "text/x-python",
   "name": "python",
   "nbconvert_exporter": "python",
   "pygments_lexer": "ipython3",
   "version": "3.7.2"
  }
 },
 "nbformat": 4,
 "nbformat_minor": 2
}
